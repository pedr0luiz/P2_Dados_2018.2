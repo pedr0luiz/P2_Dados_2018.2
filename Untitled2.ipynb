{
 "cells": [
  {
   "cell_type": "code",
   "execution_count": 9,
   "metadata": {},
   "outputs": [
    {
     "data": {
      "text/plain": [
       "0.7071067811865475"
      ]
     },
     "execution_count": 9,
     "metadata": {},
     "output_type": "execute_result"
    }
   ],
   "source": [
    "def f(u):\n",
    "    x = 1.2*u\n",
    "    y = (3-u)*1.5\n",
    "    return x, y\n",
    "\n",
    "d = [[2,6], [5,7], [8,7.5], [12,7.3],[15,5],[17,1]]\n",
    "\n",
    "trab = 0\n",
    "for u in range(1,6):\n",
    "    x1,y1 = f(u)\n",
    "    x2 = d[u][0]-d[u-1][0]\n",
    "    y2 = d[u][1]-d[u-1][1]\n",
    "    trab += x1*x2 + y1*y2\n",
    "\n",
    "fx3, fy3 = f(3)\n",
    "    \n",
    "cos = ((d[3][0]-d[2][0])*fx3 + (d[3][0]-d[2][0])*fy3)/(((fx3**2 + fy3**2)**0.5) * ((d[3][0]-d[2][0])**2 + (d[3][0]-d[2][0])**2)**0.5)\n",
    "cos"
   ]
  },
  {
   "cell_type": "code",
   "execution_count": 7,
   "metadata": {},
   "outputs": [
    {
     "data": {
      "text/plain": [
       "0.9987523388778446"
      ]
     },
     "execution_count": 7,
     "metadata": {},
     "output_type": "execute_result"
    }
   ],
   "source": [
    "14.4/(((16+0.2**2)**0.5)*3.6)"
   ]
  },
  {
   "cell_type": "code",
   "execution_count": null,
   "metadata": {},
   "outputs": [],
   "source": []
  }
 ],
 "metadata": {
  "kernelspec": {
   "display_name": "Python 3",
   "language": "python",
   "name": "python3"
  },
  "language_info": {
   "codemirror_mode": {
    "name": "ipython",
    "version": 3
   },
   "file_extension": ".py",
   "mimetype": "text/x-python",
   "name": "python",
   "nbconvert_exporter": "python",
   "pygments_lexer": "ipython3",
   "version": "3.6.4"
  }
 },
 "nbformat": 4,
 "nbformat_minor": 2
}
